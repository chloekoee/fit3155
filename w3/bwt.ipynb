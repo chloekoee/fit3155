{
 "cells": [
  {
   "cell_type": "code",
   "execution_count": 1,
   "metadata": {},
   "outputs": [
    {
     "name": "stdout",
     "output_type": "stream",
     "text": [
      "oooooooolmwl$\n",
      "tc$a\n"
     ]
    }
   ],
   "source": [
    "''' \n",
    "Naive BWT using the BWM. \n",
    "'''\n",
    "def rotations(t):\n",
    "    ''' Returns a list of rotations of input string t'''\n",
    "    tt = t*2 \n",
    "    return [ tt[i:i+len(t)] for i in range(0,len(t))]\n",
    "\n",
    "def bwm(t):\n",
    "    ''' Return lexicographically sorted list of t's rotation '''\n",
    "    return sorted(rotations(t)) ## implicitly using suffix arrays \n",
    "\n",
    "def bwtViaBwm(t):\n",
    "    ''' Given T, returns BWT(T) by taking the last column of BWM '''\n",
    "    t = t + \"$\"\n",
    "    return ''.join(map(lambda x: x[-1], bwm(t)))\n",
    "\n",
    "print(bwtViaBwm(\"wooloomooloo\"))\n",
    "print(bwtViaBwm(\"cat\"))"
   ]
  },
  {
   "cell_type": "code",
   "execution_count": 2,
   "metadata": {},
   "outputs": [
    {
     "name": "stdout",
     "output_type": "stream",
     "text": [
      "(['at', 'cat', 't'], [1, 0, 2])\n",
      "3\n",
      "$\n",
      "1\n",
      "at$\n",
      "0\n",
      "cat$\n",
      "2\n",
      "t$\n",
      "['t', 'c', '$', 'a']\n"
     ]
    }
   ],
   "source": [
    "def suffixArray(s): \n",
    "    ''' Returns the BWT for s using the suffix array '''\n",
    "    # s = s + \"$\"\n",
    "    ## First construct the suffix array\n",
    "    unsorted_SA = [s[i:len(s)] for i in range(len(s)-1, -1, -1)]\n",
    "    unsorted_SA.reverse() ## reverse the list. reverse() modifies in place, is not a function return new list\n",
    "    #print(unsorted_SA)\n",
    "\n",
    "    suffixes  = list(zip(range(0, len(s)), (unsorted_SA)))\n",
    "    #print(suffixes)\n",
    "    suffixes.sort(key = (lambda x: x[1]))\n",
    "    #print(suffixes)\n",
    "    indices = [sa_tuple[0] for sa_tuple in suffixes] ## getting just the index\n",
    "    suffixes = [sa_tuple[1] for sa_tuple in suffixes]\n",
    "    return suffixes, indices\n",
    "\n",
    "print(suffixArray(\"cat\"))\n",
    "\n",
    "def bwtViaSA(s):\n",
    "    s = s + \"$\"\n",
    "    ## construct the suffix array\n",
    "    suffixes, indices = suffixArray(s)\n",
    "    bwt = [None for i in range(len(s))]\n",
    "    ## construct the BWT from the suffix array \n",
    "    for i in range(len(suffixes)):\n",
    "        if [i] == 0:\n",
    "            bwt[i] = \"$\"\n",
    "        else:\n",
    "            print(s.find(suffixes[i]))\n",
    "            print(suffixes[i])\n",
    "\n",
    "            bwt[i] = s[s.find(suffixes[i])-1]\n",
    "    return bwt\n",
    "\n",
    "print(bwtViaSA(\"cat\"))\n"
   ]
  },
  {
   "cell_type": "markdown",
   "metadata": {},
   "source": []
  },
  {
   "cell_type": "code",
   "execution_count": 3,
   "metadata": {},
   "outputs": [
    {
     "ename": "SyntaxError",
     "evalue": "invalid syntax (1835781556.py, line 18)",
     "output_type": "error",
     "traceback": [
      "\u001b[0;36m  Cell \u001b[0;32mIn[3], line 18\u001b[0;36m\u001b[0m\n\u001b[0;31m    noc[i] =\u001b[0m\n\u001b[0m             ^\u001b[0m\n\u001b[0;31mSyntaxError\u001b[0m\u001b[0;31m:\u001b[0m invalid syntax\n"
     ]
    }
   ],
   "source": [
    "''' Inverts any BWT '''\n",
    "def invertBWT(bwt):\n",
    "    ## create the count array\n",
    "    noc = [-1 for i in range(len(bwt))]\n",
    "    rank = [-1 for i in range(27)] ## creates the alphabet-id indexed  \n",
    "    count = [0 for i in range(27)]\n",
    "    for i in range(len(s)):\n",
    "        count[ord(s[i]) - ord('a')] += 1 \n",
    "\n",
    "    ## creating the rank array\n",
    "    # don't need to do this \n",
    "    filtered_count = filter(lambda a: a != 0, count)\n",
    "    print(list(filtered_count))\n",
    "    ## how to efficiently construct the noc array\n",
    "    \n",
    "    ## use the same method used to construct the bad character matrix \n",
    "    for c, i in bwt.enumerate():\n",
    "        noc[i] = \n",
    "    ## create a hash set, with key being the character and value being the \n",
    "        \n",
    "    ## update the count array \n",
    "    # for i in range(27):\n",
    "\n",
    "        \n",
    "\n",
    "    ## create the rank array\n",
    "\n",
    "    ## \n",
    "\n",
    "invertBWT(\"cat\")"
   ]
  },
  {
   "cell_type": "code",
   "execution_count": null,
   "metadata": {},
   "outputs": [
    {
     "name": "stdout",
     "output_type": "stream",
     "text": [
      "18\n",
      "24\n",
      "32\n"
     ]
    }
   ],
   "source": [
    "ages = [5, 12, 17, 18, 24, 32]\n",
    "\n",
    "def myFunc(x):\n",
    "  if x < 18:\n",
    "    return False\n",
    "  else:\n",
    "    return True\n",
    "\n",
    "adults = filter(myFunc, ages)\n",
    "\n",
    "for x in adults:\n",
    "  print(x)"
   ]
  }
 ],
 "metadata": {
  "kernelspec": {
   "display_name": "Python 3",
   "language": "python",
   "name": "python3"
  },
  "language_info": {
   "codemirror_mode": {
    "name": "ipython",
    "version": 3
   },
   "file_extension": ".py",
   "mimetype": "text/x-python",
   "name": "python",
   "nbconvert_exporter": "python",
   "pygments_lexer": "ipython3",
   "version": "3.8.10"
  }
 },
 "nbformat": 4,
 "nbformat_minor": 2
}
