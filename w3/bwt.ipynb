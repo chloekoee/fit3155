{
 "cells": [
  {
   "cell_type": "code",
   "execution_count": 1,
   "metadata": {},
   "outputs": [
    {
     "name": "stdout",
     "output_type": "stream",
     "text": [
      "oooooooolmwl$\n",
      "tc$a\n"
     ]
    }
   ],
   "source": [
    "''' \n",
    "Naive BWT using the BWM. \n",
    "'''\n",
    "def rotations(t):\n",
    "    ''' Returns a list of rotations of input string t'''\n",
    "    tt = t*2 \n",
    "    return [ tt[i:i+len(t)] for i in range(0,len(t))]\n",
    "\n",
    "def bwm(t):\n",
    "    ''' Return lexicographically sorted list of t's rotation '''\n",
    "    return sorted(rotations(t)) ## implicitly using suffix arrays \n",
    "\n",
    "def bwtViaBwm(t):\n",
    "    ''' Given T, returns BWT(T) by taking the last column of BWM '''\n",
    "    t = t + \"$\"\n",
    "    return ''.join(map(lambda x: x[-1], bwm(t)))\n",
    "\n",
    "print(bwtViaBwm(\"wooloomooloo\"))\n",
    "print(bwtViaBwm(\"cat\"))"
   ]
  },
  {
   "cell_type": "markdown",
   "metadata": {},
   "source": [
    "### Sorted Suffix Array & Burrows Wheel Transform "
   ]
  },
  {
   "cell_type": "code",
   "execution_count": 2,
   "metadata": {},
   "outputs": [
    {
     "name": "stdout",
     "output_type": "stream",
     "text": [
      "(['$', 'at$', 'cat$', 't$'], [3, 1, 0, 2])\n",
      "ipssm$pissii\n",
      "ipssm$pissisi\n"
     ]
    }
   ],
   "source": [
    "def suffixArray(s): \n",
    "    ''' Returns the BWT for s using the suffix array '''\n",
    "    # s = s + \"$\"\n",
    "    ## First construct the suffix array\n",
    "    unsorted_SA = [s[i:len(s)] for i in range(len(s)-1, -1, -1)]\n",
    "    unsorted_SA.reverse() \n",
    "\n",
    "    suffixes  = list(zip(range(0, len(s)), (unsorted_SA)))\n",
    "    #print(suffixes)\n",
    "    suffixes.sort(key = (lambda x: x[1]))\n",
    "    #print(suffixes)\n",
    "    indices = [sa_tuple[0] for sa_tuple in suffixes] ## getting just the index\n",
    "    suffixes = [sa_tuple[1] for sa_tuple in suffixes]\n",
    "    return suffixes, indices\n",
    "\n",
    "print(suffixArray(\"cat$\"))\n",
    "\n",
    "def bwtViaSA(s):\n",
    "    ## construct the suffix array\n",
    "    n = len(s)\n",
    "    suffixes, indices = suffixArray(s)\n",
    "    bwt = [None for i in range(len(s))]\n",
    "    #bwt[i] = S[(indices[i] - 1) % n]\n",
    "\n",
    "    ## construct the BWT from the suffix array \n",
    "    for i in range(len(suffixes)):\n",
    "        bwt[i] = s[(indices[i] - 1) % n] ## NOT EFFICIENT\n",
    "\n",
    "        ## BETTER METHOD : AS INCREMENTALLY FROM POSITION 1 .... FIND THE RIGHT SPOT\n",
    "        # if [i] == 0:\n",
    "        #     bwt[i] = \"$\"\n",
    "        # else:\n",
    "        #     bwt[i] = s[s.find(suffixes[i])-1]\n",
    "    return \"\".join(bwt)\n",
    "\n",
    "print(bwtViaSA(\"mississippi$\"))\n",
    "print(\"ipssm$pissii\")\n"
   ]
  },
  {
   "cell_type": "markdown",
   "metadata": {},
   "source": [
    "#### Constructing the Run Length Encoding"
   ]
  },
  {
   "cell_type": "code",
   "execution_count": 1,
   "metadata": {},
   "outputs": [
    {
     "name": "stdout",
     "output_type": "stream",
     "text": [
      "[(110, 2), (98, 1), (97, 2), (36, 1), (97, 2)]\n"
     ]
    }
   ],
   "source": [
    "def encode_bwt(bwt_string):\n",
    "    # Check for empty input\n",
    "    if not bwt_string:\n",
    "        return []\n",
    "\n",
    "    # Initialize the list to store tuples (ASCII code; count)\n",
    "    encoded_list = []\n",
    "    \n",
    "    # Initialize the first character and its count\n",
    "    current_char = bwt_string[0]\n",
    "    count = 1\n",
    "\n",
    "    # Iterate over the BWT string starting from the second character\n",
    "    for char in bwt_string[1:]:\n",
    "        if char == current_char:\n",
    "            # Increment the count if the same character continues\n",
    "            count += 1\n",
    "        else:\n",
    "            # Append the tuple for the previous character run\n",
    "            encoded_list.append((ord(current_char), count))\n",
    "            # Reset for the new character\n",
    "            current_char = char\n",
    "            count = 1\n",
    "\n",
    "    # Don't forget to append the last run\n",
    "    encoded_list.append((ord(current_char), count))\n",
    "\n",
    "    return encoded_list\n",
    "\n",
    "# Example usage\n",
    "bwt_string = \"nnbaa$aa\"\n",
    "encoded_bwt = encode_bwt(bwt_string)\n",
    "print(encoded_bwt)\n"
   ]
  },
  {
   "cell_type": "markdown",
   "metadata": {},
   "source": []
  },
  {
   "cell_type": "markdown",
   "metadata": {},
   "source": [
    "### Inverting BWT Efficiently (no in memory storage)"
   ]
  },
  {
   "cell_type": "code",
   "execution_count": 6,
   "metadata": {},
   "outputs": [
    {
     "name": "stdout",
     "output_type": "stream",
     "text": [
      "banana$\n"
     ]
    }
   ],
   "source": [
    "def invert_bwt(bwt, char_count):\n",
    "    # Step 1: Count the frequency of each character\n",
    "    # n = 0\n",
    "    # char_count = {}\n",
    "    # for char in bwt:\n",
    "    #     n += 1  # Calculate length as we go\n",
    "    #     if char in char_count:\n",
    "    #         char_count[char] = char_count[char] + 1\n",
    "    #     else:\n",
    "    #         char_count[char] = 1\n",
    "\n",
    "    # Step 2: Calculate cumulative character counts for the first column\n",
    "    sorted_chars = sorted(char_count.keys())  # O(n*log(n)), n bounded by ASCII range --> O(1)\n",
    "    total = 0\n",
    "    first_occurrence = {}\n",
    "    for char in sorted_chars:\n",
    "        first_occurrence[char] = total\n",
    "        total += char_count[char]\n",
    "\n",
    "    # Step 3: Set up the mapping from first column to last column\n",
    "    T = [0] * len(bwt)\n",
    "    count = {char: 0 for char in char_count}\n",
    "    for i in range(len(bwt)): \n",
    "        char = bwt[i]\n",
    "        T[first_occurrence[char] + count[char]] = i\n",
    "        count[char] += 1\n",
    "\n",
    "    # Step 4: Reconstruct the original string by following the map\n",
    "    row = T[first_occurrence['$']]  # Start with the position of the end-of-string character `$`\n",
    "    row = T[row]  # Row points to character after $ --> first character in reconstructed string\n",
    "    for _ in range(len(bwt)):\n",
    "        yield bwt[row] ## Change this to print on same line \n",
    "        row = T[row]\n",
    "\n",
    "# print(\"\".join(char for char in invert_bwt(\"lo$oogg\")))  \n",
    "char_count = {'a': 3, 'n': 2, 'b': 1, '$': 1}\n",
    "print(\"\".join(char for char in invert_bwt(\"annb$aa\",char_count)))\n"
   ]
  },
  {
   "cell_type": "code",
   "execution_count": 7,
   "metadata": {},
   "outputs": [
    {
     "name": "stdout",
     "output_type": "stream",
     "text": [
      "46\n"
     ]
    }
   ],
   "source": [
    "print(len(\"0001110001001100001101100010011110110111001010\"))"
   ]
  },
  {
   "cell_type": "code",
   "execution_count": 8,
   "metadata": {},
   "outputs": [
    {
     "name": "stdout",
     "output_type": "stream",
     "text": [
      "$\n"
     ]
    }
   ],
   "source": [
    "print(chr(int(\"0100100\", 2)))"
   ]
  }
 ],
 "metadata": {
  "kernelspec": {
   "display_name": "Python 3",
   "language": "python",
   "name": "python3"
  },
  "language_info": {
   "codemirror_mode": {
    "name": "ipython",
    "version": 3
   },
   "file_extension": ".py",
   "mimetype": "text/x-python",
   "name": "python",
   "nbconvert_exporter": "python",
   "pygments_lexer": "ipython3",
   "version": "3.8.10"
  }
 },
 "nbformat": 4,
 "nbformat_minor": 2
}
